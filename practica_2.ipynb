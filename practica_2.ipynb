{
  "cells": [
    {
      "cell_type": "markdown",
      "metadata": {
        "id": "MHRJ5fOq0XlQ"
      },
      "source": [
        "# Importar dependencias"
      ]
    },
    {
      "cell_type": "code",
      "execution_count": 36,
      "metadata": {},
      "outputs": [],
      "source": [
        "import json\n",
        "import torch\n",
        "import os.path as osp\n",
        "from torch_geometric.data import InMemoryDataset, download_url\n",
        "import torch\n",
        "from torch.nn import CrossEntropyLoss\n",
        "from torch.optim import Adam\n",
        "import seaborn as sns\n",
        "from sklearn.metrics import confusion_matrix, f1_score\n",
        "from torch_geometric.nn import MLP\n",
        "from torch.nn import Module\n",
        "from torch_geometric.nn import GCN, MLP\n",
        "from torch.nn import Module\n",
        "from torch_geometric.nn import GIN, MLP\n",
        "import torch\n",
        "import torch.nn as nn\n",
        "import torch.nn.functional as F\n",
        "from torch_geometric.nn import GCNConv, GATConv\n",
        "from torchsummary import summary\n",
        "import pandas as pd"
      ]
    },
    {
      "cell_type": "markdown",
      "metadata": {
        "id": "oywdRiO90dBy"
      },
      "source": [
        "# Cargar el dataset"
      ]
    },
    {
      "cell_type": "code",
      "execution_count": 2,
      "metadata": {},
      "outputs": [
        {
          "data": {
            "text/plain": [
              "True"
            ]
          },
          "execution_count": 2,
          "metadata": {},
          "output_type": "execute_result"
        }
      ],
      "source": [
        "torch.cuda.is_available()"
      ]
    },
    {
      "cell_type": "code",
      "execution_count": 3,
      "metadata": {
        "id": "63VQAhc-zn8d"
      },
      "outputs": [],
      "source": [
        "class TournamentDataset(InMemoryDataset):\n",
        "\n",
        "    TORUNAMENT_URL = 'https://drive.upm.es/s/mnsESjBucKUKsEg/download'\n",
        "\n",
        "    def __init__(self, root, transform=None, pre_transform=None, pre_filter=None):\n",
        "        super().__init__(root, transform, pre_transform, pre_filter)\n",
        "        self.load(self.processed_paths[0])\n",
        "\n",
        "    @property\n",
        "    def raw_file_names(self):\n",
        "        return ['tournament.pt']\n",
        "\n",
        "    @property\n",
        "    def processed_file_names(self):\n",
        "        return ['tournament.pt']\n",
        "\n",
        "    @property\n",
        "    def num_classes(self):\n",
        "        return 3\n",
        "\n",
        "    @property\n",
        "    def num_features(self):\n",
        "        return 500\n",
        "\n",
        "    def download(self):\n",
        "        download_url(self.TORUNAMENT_URL, self.raw_dir, filename='tournament.pt')\n",
        "\n",
        "    def process(self):\n",
        "        data_list = [torch.load(osp.join(self.raw_dir, 'tournament.pt'))]\n",
        "\n",
        "        if self.pre_filter is not None:\n",
        "            data_list = [data for data in data_list if self.pre_filter(data)]\n",
        "\n",
        "        if self.pre_transform is not None:\n",
        "            data_list = [self.pre_transform(data) for data in data_list]\n",
        "\n",
        "        self.save(data_list, self.processed_paths[0])\n",
        "\n",
        "    def create_test_json(self, model, file_path, device=\"cpu\"):\n",
        "        data = self[0]\n",
        "\n",
        "        model = model.to(device)\n",
        "        data = data.to(device)\n",
        "\n",
        "        model.eval()\n",
        "        out = model(data.x, data.edge_index)\n",
        "        y_pred = out[data.test_mask].argmax(dim=1)\n",
        "        nid = data.nid[data.test_mask]\n",
        "\n",
        "        pred = {\n",
        "            'nid': nid.detach().cpu().numpy().tolist(),\n",
        "            'y': y_pred.detach().cpu().numpy().tolist()\n",
        "        }\n",
        "\n",
        "        with open(file_path, 'w') as f:\n",
        "            json.dump(pred, f)\n"
      ]
    },
    {
      "cell_type": "code",
      "execution_count": 4,
      "metadata": {
        "colab": {
          "base_uri": "https://localhost:8080/"
        },
        "id": "BmhQysdi0B7O",
        "outputId": "d162c7b8-704a-4da8-ff02-540c3a0cc9e3"
      },
      "outputs": [],
      "source": [
        "dataset = TournamentDataset(\"tournament\")\n",
        "data = dataset[0]"
      ]
    },
    {
      "cell_type": "markdown",
      "metadata": {
        "id": "hh4l8P3e0y7G"
      },
      "source": [
        "# Modelos"
      ]
    },
    {
      "cell_type": "code",
      "execution_count": 46,
      "metadata": {},
      "outputs": [],
      "source": [
        "f1_by_model = {}\n",
        "\n",
        "def train_model(model, model_name, dataset):\n",
        "    device = 'cuda' if torch.cuda.is_available() else 'cpu'\n",
        "    model = model.to(device)\n",
        "\n",
        "    optimizer = Adam(model.parameters(), lr=0.01, weight_decay=5e-4)\n",
        "    optm_func = CrossEntropyLoss()\n",
        "\n",
        "    data = dataset.to(device)\n",
        "\n",
        "    model.train()\n",
        "    for epoch in range(100):\n",
        "        optimizer.zero_grad()\n",
        "        out = model(data.x, data.edge_index)\n",
        "        loss = optm_func(out[data.train_mask], data.y[data.train_mask].argmax(dim=1))\n",
        "        loss.backward()\n",
        "        optimizer.step()\n",
        "\n",
        "        if epoch % 10 == 0:\n",
        "            print(f\"Epoch {epoch}: Loss {loss.item()}\")\n",
        "\n",
        "    model.eval()\n",
        "    out = model(data.x, data.edge_index)\n",
        "\n",
        "    print(\"\\n\\nMODEL VALIDATION:\\n\")\n",
        "    y_pred = out.argmax(dim=1)[data.val_mask].detach().cpu()\n",
        "    y = data.y.argmax(dim=1)[data.val_mask].detach().cpu()\n",
        "\n",
        "    f1_val = f1_score(y, y_pred, average='micro')\n",
        "    print(f\"Validation F1 score: {f1_val}\")\n",
        "    # sns.heatmap(confusion_matrix(y, y_pred), annot=True, fmt='g', cmap='Blues');\n",
        "\n",
        "    print(\"\\n\\nMODEL TEST:\\n\")\n",
        "    y_pred = out.argmax(dim=1)[data.test_mask].detach().cpu()\n",
        "    y_pred = y_pred.numpy()\n",
        "    y = pd.read_csv('test_labels.csv')['y'].values\n",
        "    y = torch.tensor(y).cpu().numpy()\n",
        "    f1_test = f1_score(y, y_pred, average='micro')\n",
        "    print(f\"Test F1 score: {f1_test}\")\n",
        "\n",
        "    f1_by_model[model_name] = [f1_val, f1_test]"
      ]
    },
    {
      "cell_type": "markdown",
      "metadata": {},
      "source": [
        "## Baseline - MLP"
      ]
    },
    {
      "cell_type": "code",
      "execution_count": 47,
      "metadata": {},
      "outputs": [
        {
          "name": "stdout",
          "output_type": "stream",
          "text": [
            "==========================================================================================\n",
            "Layer (type:depth-idx)                   Output Shape              Param #\n",
            "==========================================================================================\n",
            "├─ModuleList: 1                          []                        --\n",
            "|    └─Linear: 2-1                       [-1, 32]                  16,032\n",
            "├─ModuleList: 1                          []                        --\n",
            "|    └─BatchNorm: 2-2                    [-1, 32]                  --\n",
            "|    |    └─BatchNorm1d: 3-1             [-1, 32]                  64\n",
            "├─ReLU: 1-1                              [-1, 32]                  --\n",
            "├─ModuleList: 1                          []                        --\n",
            "|    └─Linear: 2-3                       [-1, 3]                   99\n",
            "==========================================================================================\n",
            "Total params: 16,195\n",
            "Trainable params: 16,195\n",
            "Non-trainable params: 0\n",
            "Total mult-adds (M): 0.02\n",
            "==========================================================================================\n",
            "Input size (MB): 38.28\n",
            "Forward/backward pass size (MB): 0.00\n",
            "Params size (MB): 0.06\n",
            "Estimated Total Size (MB): 38.35\n",
            "==========================================================================================\n"
          ]
        }
      ],
      "source": [
        "model = MLP(\n",
        "    in_channels=dataset.num_node_features,\n",
        "    out_channels=dataset.num_classes,\n",
        "    num_layers=2,\n",
        "    hidden_channels=32\n",
        ")\n",
        "summary(model, (data.x, data.edge_index));"
      ]
    },
    {
      "cell_type": "code",
      "execution_count": 48,
      "metadata": {},
      "outputs": [
        {
          "name": "stdout",
          "output_type": "stream",
          "text": [
            "Epoch 0: Loss 1.162735939025879\n",
            "Epoch 10: Loss 0.416713684797287\n",
            "Epoch 20: Loss 0.29550236463546753\n",
            "Epoch 30: Loss 0.2366892546415329\n",
            "Epoch 40: Loss 0.19877342879772186\n",
            "Epoch 50: Loss 0.16615396738052368\n",
            "Epoch 60: Loss 0.13516177237033844\n",
            "Epoch 70: Loss 0.10595973581075668\n",
            "Epoch 80: Loss 0.07941488176584244\n",
            "Epoch 90: Loss 0.059668611735105515\n",
            "\n",
            "\n",
            "MODEL VALIDATION:\n",
            "\n",
            "Validation F1 score: 0.8771830985915493\n",
            "\n",
            "\n",
            "MODEL TEST:\n",
            "\n",
            "Test F1 score: 0.8711967545638946\n"
          ]
        }
      ],
      "source": [
        "train_model(model, \"MLP\", data)"
      ]
    },
    {
      "cell_type": "markdown",
      "metadata": {},
      "source": [
        "## Aproximación I - GCNMLP"
      ]
    },
    {
      "cell_type": "code",
      "execution_count": 49,
      "metadata": {
        "id": "Ftkl9IapUI5v"
      },
      "outputs": [],
      "source": [
        "class GCNMLP(Module):\n",
        "\n",
        "    def __init__(self, num_features, num_classes, hidden_channels=32, n_layers=2):\n",
        "        super(GCNMLP, self).__init__()\n",
        "        self.gcn = GCN(\n",
        "            in_channels=num_features,\n",
        "            hidden_channels=hidden_channels,\n",
        "            num_layers=n_layers,\n",
        "            out_channels=hidden_channels,\n",
        "        )\n",
        "        self.cls = MLP(\n",
        "            in_channels=hidden_channels,\n",
        "            hidden_channels=hidden_channels,\n",
        "            out_channels=num_classes,\n",
        "            num_layers=2,\n",
        "            dropout=0.5\n",
        "        )\n",
        "\n",
        "    def reset_parameters(self):\n",
        "        self.gcn.reset_parameters()\n",
        "        self.cls.reset_parameters()\n",
        "\n",
        "    def forward(self, x, edge_index):\n",
        "        x = self.gcn(x, edge_index)\n",
        "        x = self.cls(x)\n",
        "        return x"
      ]
    },
    {
      "cell_type": "code",
      "execution_count": 50,
      "metadata": {
        "id": "VjsJmmx_02Ht"
      },
      "outputs": [
        {
          "name": "stdout",
          "output_type": "stream",
          "text": [
            "===============================================================================================\n",
            "Layer (type:depth-idx)                        Output Shape              Param #\n",
            "===============================================================================================\n",
            "├─GCN: 1-1                                    [-1, 48]                  --\n",
            "|    └─ModuleList: 2                          []                        --\n",
            "|    |    └─GCNConv: 3-1                      [-1, 48]                  24,048\n",
            "|    └─ModuleList: 2                          []                        --\n",
            "|    |    └─Identity: 3-2                     [-1, 48]                  --\n",
            "|    └─ReLU: 2-1                              [-1, 48]                  --\n",
            "|    └─Dropout: 2-2                           [-1, 48]                  --\n",
            "|    └─ModuleList: 2                          []                        --\n",
            "|    |    └─GCNConv: 3-3                      [-1, 48]                  2,352\n",
            "|    └─ModuleList: 2                          []                        --\n",
            "|    |    └─Identity: 3-4                     [-1, 48]                  --\n",
            "|    └─ReLU: 2-3                              [-1, 48]                  --\n",
            "|    └─Dropout: 2-4                           [-1, 48]                  --\n",
            "|    └─ModuleList: 2                          []                        --\n",
            "|    |    └─GCNConv: 3-5                      [-1, 48]                  2,352\n",
            "|    └─ModuleList: 2                          []                        --\n",
            "|    |    └─Identity: 3-6                     [-1, 48]                  --\n",
            "|    └─ReLU: 2-5                              [-1, 48]                  --\n",
            "|    └─Dropout: 2-6                           [-1, 48]                  --\n",
            "|    └─ModuleList: 2                          []                        --\n",
            "|    |    └─GCNConv: 3-7                      [-1, 48]                  2,352\n",
            "|    └─ModuleList: 2                          []                        --\n",
            "|    |    └─Identity: 3-8                     [-1, 48]                  --\n",
            "|    └─ReLU: 2-7                              [-1, 48]                  --\n",
            "|    └─Dropout: 2-8                           [-1, 48]                  --\n",
            "|    └─ModuleList: 2                          []                        --\n",
            "|    |    └─GCNConv: 3-9                      [-1, 48]                  2,352\n",
            "├─MLP: 1-2                                    [-1, 3]                   --\n",
            "|    └─ModuleList: 2                          []                        --\n",
            "|    |    └─Linear: 3-10                      [-1, 48]                  2,352\n",
            "|    └─ModuleList: 2                          []                        --\n",
            "|    |    └─BatchNorm: 3-11                   [-1, 48]                  96\n",
            "|    └─ReLU: 2-9                              [-1, 48]                  --\n",
            "|    └─ModuleList: 2                          []                        --\n",
            "|    |    └─Linear: 3-12                      [-1, 3]                   147\n",
            "===============================================================================================\n",
            "Total params: 36,051\n",
            "Trainable params: 36,051\n",
            "Non-trainable params: 0\n",
            "Total mult-adds (M): 0.10\n",
            "===============================================================================================\n",
            "Input size (MB): 38.28\n",
            "Forward/backward pass size (MB): 0.00\n",
            "Params size (MB): 0.14\n",
            "Estimated Total Size (MB): 38.42\n",
            "===============================================================================================\n"
          ]
        }
      ],
      "source": [
        "model = GCNMLP(\n",
        "    dataset.num_node_features,\n",
        "    dataset.num_classes,\n",
        "    hidden_channels=48,\n",
        "    n_layers=5\n",
        ")\n",
        "\n",
        "model.reset_parameters()\n",
        "\n",
        "summary(model, (data.x, data.edge_index));"
      ]
    },
    {
      "cell_type": "code",
      "execution_count": 51,
      "metadata": {},
      "outputs": [
        {
          "name": "stdout",
          "output_type": "stream",
          "text": [
            "Epoch 0: Loss 1.136400818824768\n",
            "Epoch 10: Loss 0.46224525570869446\n",
            "Epoch 20: Loss 0.42050430178642273\n",
            "Epoch 30: Loss 0.39451953768730164\n",
            "Epoch 40: Loss 0.3785044848918915\n",
            "Epoch 50: Loss 0.3651963770389557\n",
            "Epoch 60: Loss 0.3582782745361328\n",
            "Epoch 70: Loss 0.35238412022590637\n",
            "Epoch 80: Loss 0.34821459650993347\n",
            "Epoch 90: Loss 0.32996121048927307\n",
            "\n",
            "\n",
            "MODEL VALIDATION:\n",
            "\n",
            "Validation F1 score: 0.8016901408450704\n",
            "\n",
            "\n",
            "MODEL TEST:\n",
            "\n",
            "Test F1 score: 0.8275862068965517\n"
          ]
        }
      ],
      "source": [
        "train_model(model, \"GCNMLP\", data)"
      ]
    },
    {
      "cell_type": "markdown",
      "metadata": {},
      "source": [
        "## Aproximación II - GINMLP"
      ]
    },
    {
      "cell_type": "code",
      "execution_count": 52,
      "metadata": {
        "id": "zFgcYv9nU9Hn"
      },
      "outputs": [],
      "source": [
        "class GINMLP(Module):\n",
        "\n",
        "    def __init__(self, num_features, num_classes, hidden_channels=32, n_layers=2):\n",
        "        super(GINMLP, self).__init__()\n",
        "        self.gcn = GIN(\n",
        "            in_channels=num_features,\n",
        "            hidden_channels=hidden_channels,\n",
        "            num_layers=n_layers,\n",
        "            out_channels=hidden_channels,\n",
        "            dropout=0.5,\n",
        "            act=\"relu\",\n",
        "            jk=\"cat\"\n",
        "        )\n",
        "        self.cls = MLP(\n",
        "            in_channels=hidden_channels,\n",
        "            hidden_channels=hidden_channels,\n",
        "            out_channels=num_classes,\n",
        "            num_layers=2,\n",
        "            dropout=0.5\n",
        "        )\n",
        "\n",
        "    def reset_parameters(self):\n",
        "        self.gcn.reset_parameters()\n",
        "        self.cls.reset_parameters()\n",
        "\n",
        "    def forward(self, x, edge_index):\n",
        "        x = self.gcn(x, edge_index)\n",
        "        x = self.cls(x)\n",
        "        return x"
      ]
    },
    {
      "cell_type": "code",
      "execution_count": 53,
      "metadata": {
        "id": "pSSr2o0pVESE"
      },
      "outputs": [
        {
          "name": "stdout",
          "output_type": "stream",
          "text": [
            "==========================================================================================\n",
            "Layer (type:depth-idx)                   Output Shape              Param #\n",
            "==========================================================================================\n",
            "├─GCN: 1-1                               [-1, 32]                  --\n",
            "|    └─ModuleList: 2                     []                        --\n",
            "|    |    └─GCNConv: 3-1                 [-1, 32]                  16,032\n",
            "|    └─ModuleList: 2                     []                        --\n",
            "|    |    └─Identity: 3-2                [-1, 32]                  --\n",
            "|    └─ReLU: 2-1                         [-1, 32]                  --\n",
            "|    └─Dropout: 2-2                      [-1, 32]                  --\n",
            "|    └─ModuleList: 2                     []                        --\n",
            "|    |    └─GCNConv: 3-3                 [-1, 32]                  1,056\n",
            "|    └─ModuleList: 2                     []                        --\n",
            "|    |    └─Identity: 3-4                [-1, 32]                  --\n",
            "|    └─ReLU: 2-3                         [-1, 32]                  --\n",
            "|    └─Dropout: 2-4                      [-1, 32]                  --\n",
            "|    └─ModuleList: 2                     []                        --\n",
            "|    |    └─GCNConv: 3-5                 [-1, 32]                  1,056\n",
            "├─MLP: 1-2                               [-1, 3]                   --\n",
            "|    └─ModuleList: 2                     []                        --\n",
            "|    |    └─Linear: 3-6                  [-1, 32]                  1,056\n",
            "|    └─ModuleList: 2                     []                        --\n",
            "|    |    └─BatchNorm: 3-7               [-1, 32]                  64\n",
            "|    └─ReLU: 2-5                         [-1, 32]                  --\n",
            "|    └─ModuleList: 2                     []                        --\n",
            "|    |    └─Linear: 3-8                  [-1, 3]                   99\n",
            "==========================================================================================\n",
            "Total params: 19,363\n",
            "Trainable params: 19,363\n",
            "Non-trainable params: 0\n",
            "Total mult-adds (M): 0.06\n",
            "==========================================================================================\n",
            "Input size (MB): 38.28\n",
            "Forward/backward pass size (MB): 0.00\n",
            "Params size (MB): 0.07\n",
            "Estimated Total Size (MB): 38.36\n",
            "==========================================================================================\n"
          ]
        }
      ],
      "source": [
        "model = GCNMLP(\n",
        "    dataset.num_node_features,\n",
        "    dataset.num_classes,\n",
        "    hidden_channels=32,\n",
        "    n_layers=3\n",
        ")\n",
        "\n",
        "model.reset_parameters()\n",
        "\n",
        "summary(model, (data.x, data.edge_index));"
      ]
    },
    {
      "cell_type": "code",
      "execution_count": 54,
      "metadata": {},
      "outputs": [
        {
          "name": "stdout",
          "output_type": "stream",
          "text": [
            "Epoch 0: Loss 1.1300357580184937\n",
            "Epoch 10: Loss 0.4900183081626892\n",
            "Epoch 20: Loss 0.4050064980983734\n",
            "Epoch 30: Loss 0.37292909622192383\n",
            "Epoch 40: Loss 0.352573037147522\n",
            "Epoch 50: Loss 0.3354226350784302\n",
            "Epoch 60: Loss 0.31521478295326233\n",
            "Epoch 70: Loss 0.3196139335632324\n",
            "Epoch 80: Loss 0.28416207432746887\n",
            "Epoch 90: Loss 0.2617398500442505\n",
            "\n",
            "\n",
            "MODEL VALIDATION:\n",
            "\n",
            "Validation F1 score: 0.8338028169014085\n",
            "\n",
            "\n",
            "MODEL TEST:\n",
            "\n",
            "Test F1 score: 0.8433062880324543\n"
          ]
        }
      ],
      "source": [
        "train_model(model, \"GINMLP\", data)"
      ]
    },
    {
      "cell_type": "markdown",
      "metadata": {},
      "source": [
        "## Aproximación III - Convolucional"
      ]
    },
    {
      "cell_type": "code",
      "execution_count": 55,
      "metadata": {
        "id": "tiEH1JK_XLm7"
      },
      "outputs": [],
      "source": [
        "class Convolucional(nn.Module):\n",
        "    def __init__(self, in_channels, hidden_channels, out_channels, dropout_rate=0.5):\n",
        "        super(Convolucional, self).__init__()\n",
        "\n",
        "        self.dropout_rate = dropout_rate\n",
        "\n",
        "        # Capas de GNN\n",
        "        self.gcn1 = GCNConv(in_channels, hidden_channels)\n",
        "        self.gcn2 = GCNConv(hidden_channels, hidden_channels)\n",
        "        self.gat = GATConv(hidden_channels, hidden_channels, heads=8, concat=False)\n",
        "        self.gcn3 = GCNConv(hidden_channels, hidden_channels)\n",
        "\n",
        "        # Capas densas (más profundas)\n",
        "        self.fc1 = nn.Linear(hidden_channels, hidden_channels // 2)\n",
        "        self.fc2 = nn.Linear(hidden_channels // 2, hidden_channels // 4)\n",
        "        self.fc3 = nn.Linear(hidden_channels // 4, hidden_channels // 8)\n",
        "        self.fc4 = nn.Linear(hidden_channels // 8, out_channels)\n",
        "\n",
        "    def forward(self, x, edge_index):\n",
        "        # Capas GCN y GAT\n",
        "        x = F.relu(self.gcn1(x, edge_index))\n",
        "        x = F.dropout(x, p=self.dropout_rate, training=self.training)\n",
        "\n",
        "        x = F.relu(self.gcn2(x, edge_index))\n",
        "        x = F.dropout(x, p=self.dropout_rate, training=self.training)\n",
        "\n",
        "        x = F.relu(self.gat(x, edge_index))\n",
        "        x = F.dropout(x, p=self.dropout_rate, training=self.training)\n",
        "\n",
        "        x = F.relu(self.gcn3(x, edge_index))\n",
        "        x = F.dropout(x, p=self.dropout_rate, training=self.training)\n",
        "\n",
        "        # Capas densas finales\n",
        "        x = F.relu(self.fc1(x))\n",
        "        x = F.dropout(x, p=self.dropout_rate, training=self.training)\n",
        "\n",
        "        x = F.relu(self.fc2(x))\n",
        "        x = F.dropout(x, p=self.dropout_rate, training=self.training)\n",
        "\n",
        "        x = F.relu(self.fc3(x))\n",
        "        x = F.dropout(x, p=self.dropout_rate, training=self.training)\n",
        "\n",
        "        x = self.fc4(x)  # Capa final sin activación, log-softmax al final\n",
        "\n",
        "        return x.log_softmax(dim=-1)\n"
      ]
    },
    {
      "cell_type": "code",
      "execution_count": 56,
      "metadata": {
        "id": "ee7K0WCBXN0B"
      },
      "outputs": [
        {
          "name": "stdout",
          "output_type": "stream",
          "text": [
            "==========================================================================================\n",
            "Layer (type:depth-idx)                   Output Shape              Param #\n",
            "==========================================================================================\n",
            "├─GCNConv: 1-1                           [-1, 64]                  --\n",
            "|    └─Linear: 2-1                       [-1, 64]                  32,000\n",
            "|    └─SumAggregation: 2-2               [-1, 64]                  --\n",
            "├─GCNConv: 1-2                           [-1, 64]                  --\n",
            "|    └─Linear: 2-3                       [-1, 64]                  4,096\n",
            "|    └─SumAggregation: 2-4               [-1, 64]                  --\n",
            "├─GATConv: 1-3                           [-1, 64]                  --\n",
            "|    └─Linear: 2-5                       [-1, 512]                 32,768\n",
            "|    └─SumAggregation: 2-6               [-1, 8, 64]               --\n",
            "├─GCNConv: 1-4                           [-1, 64]                  --\n",
            "|    └─Linear: 2-7                       [-1, 64]                  4,096\n",
            "|    └─SumAggregation: 2-8               [-1, 64]                  --\n",
            "├─Linear: 1-5                            [-1, 32]                  2,080\n",
            "├─Linear: 1-6                            [-1, 16]                  528\n",
            "├─Linear: 1-7                            [-1, 8]                   136\n",
            "├─Linear: 1-8                            [-1, 3]                   27\n",
            "==========================================================================================\n",
            "Total params: 75,731\n",
            "Trainable params: 75,731\n",
            "Non-trainable params: 0\n",
            "Total mult-adds (M): 0.15\n",
            "==========================================================================================\n",
            "Input size (MB): 38.28\n",
            "Forward/backward pass size (MB): 0.01\n",
            "Params size (MB): 0.29\n",
            "Estimated Total Size (MB): 38.58\n",
            "==========================================================================================\n"
          ]
        }
      ],
      "source": [
        "model = Convolucional(\n",
        "    dataset.num_node_features,\n",
        "    64,\n",
        "    dataset.num_classes\n",
        ")\n",
        "\n",
        "summary(model, (data.x, data.edge_index));"
      ]
    },
    {
      "cell_type": "code",
      "execution_count": 57,
      "metadata": {},
      "outputs": [
        {
          "name": "stdout",
          "output_type": "stream",
          "text": [
            "Epoch 0: Loss 1.126715898513794\n",
            "Epoch 10: Loss 1.069603681564331\n",
            "Epoch 20: Loss 1.0103967189788818\n",
            "Epoch 30: Loss 0.9451505541801453\n",
            "Epoch 40: Loss 0.9283134341239929\n",
            "Epoch 50: Loss 0.8669200539588928\n",
            "Epoch 60: Loss 0.8270378708839417\n",
            "Epoch 70: Loss 0.8030716776847839\n",
            "Epoch 80: Loss 0.7761308550834656\n",
            "Epoch 90: Loss 0.709059476852417\n",
            "\n",
            "\n",
            "MODEL VALIDATION:\n",
            "\n",
            "Validation F1 score: 0.8005633802816902\n",
            "\n",
            "\n",
            "MODEL TEST:\n",
            "\n",
            "Test F1 score: 0.821501014198783\n"
          ]
        }
      ],
      "source": [
        "train_model(model, \"Convolucional\", data)"
      ]
    },
    {
      "cell_type": "code",
      "execution_count": 58,
      "metadata": {
        "id": "f2dKfGRkczks"
      },
      "outputs": [],
      "source": [
        "import torch.nn as nn\n",
        "import torch.nn.functional as F\n",
        "from torch_geometric.nn import GCNConv, GATConv\n",
        "\n",
        "class Convolucional_Softmax(nn.Module):\n",
        "    def __init__(self, in_channels, hidden_channels, out_channels):\n",
        "        super(Convolucional_Softmax, self).__init__()\n",
        "        self.gcn1 = GCNConv(in_channels, hidden_channels)\n",
        "        self.gat = GATConv(hidden_channels, hidden_channels, heads=3, concat=False)\n",
        "        self.gcn2 = GCNConv(hidden_channels, hidden_channels)\n",
        "        self.fc = nn.Linear(hidden_channels, out_channels)\n",
        "\n",
        "    def forward(self, x, edge_index):\n",
        "        # Primera capa GCN\n",
        "        x = F.relu(self.gcn1(x, edge_index))\n",
        "        # Atención con GAT\n",
        "        x = F.relu(self.gat(x, edge_index))\n",
        "        # Segunda capa GCN\n",
        "        x = F.relu(self.gcn2(x, edge_index))\n",
        "        # Clasificación final\n",
        "        x = self.fc(x)\n",
        "        return F.log_softmax(x, dim=1)"
      ]
    },
    {
      "cell_type": "code",
      "execution_count": 59,
      "metadata": {
        "id": "yD0XNjJvc0ki"
      },
      "outputs": [
        {
          "name": "stdout",
          "output_type": "stream",
          "text": [
            "==========================================================================================\n",
            "Layer (type:depth-idx)                   Output Shape              Param #\n",
            "==========================================================================================\n",
            "├─GCNConv: 1-1                           [-1, 1024]                --\n",
            "|    └─Linear: 2-1                       [-1, 1024]                512,000\n",
            "|    └─SumAggregation: 2-2               [-1, 1024]                --\n",
            "├─GATConv: 1-2                           [-1, 1024]                --\n",
            "|    └─Linear: 2-3                       [-1, 3072]                3,145,728\n",
            "|    └─SumAggregation: 2-4               [-1, 3, 1024]             --\n",
            "├─GCNConv: 1-3                           [-1, 1024]                --\n",
            "|    └─Linear: 2-5                       [-1, 1024]                1,048,576\n",
            "|    └─SumAggregation: 2-6               [-1, 1024]                --\n",
            "├─Linear: 1-4                            [-1, 3]                   3,075\n",
            "==========================================================================================\n",
            "Total params: 4,709,379\n",
            "Trainable params: 4,709,379\n",
            "Non-trainable params: 0\n",
            "Total mult-adds (M): 9.42\n",
            "==========================================================================================\n",
            "Input size (MB): 38.28\n",
            "Forward/backward pass size (MB): 0.04\n",
            "Params size (MB): 17.96\n",
            "Estimated Total Size (MB): 56.29\n",
            "==========================================================================================\n"
          ]
        }
      ],
      "source": [
        "model = Convolucional_Softmax(\n",
        "    dataset.num_node_features,\n",
        "    1024,\n",
        "    dataset.num_classes\n",
        ")\n",
        "\n",
        "summary(model, (data.x, data.edge_index));"
      ]
    },
    {
      "cell_type": "code",
      "execution_count": 60,
      "metadata": {},
      "outputs": [
        {
          "name": "stdout",
          "output_type": "stream",
          "text": [
            "Epoch 0: Loss 1.1020911931991577\n",
            "Epoch 10: Loss 0.748934268951416\n",
            "Epoch 20: Loss 0.4981163442134857\n",
            "Epoch 30: Loss 0.35192811489105225\n",
            "Epoch 40: Loss 0.3196345567703247\n",
            "Epoch 50: Loss 0.2917575538158417\n",
            "Epoch 60: Loss 0.26526135206222534\n",
            "Epoch 70: Loss 0.2525356411933899\n",
            "Epoch 80: Loss 0.32291102409362793\n",
            "Epoch 90: Loss 0.24121852219104767\n",
            "\n",
            "\n",
            "MODEL VALIDATION:\n",
            "\n",
            "Validation F1 score: 0.8771830985915493\n",
            "\n",
            "\n",
            "MODEL TEST:\n",
            "\n",
            "Test F1 score: 0.8980730223123732\n"
          ]
        }
      ],
      "source": [
        "train_model(model, \"Convolucional Softmax\", data)"
      ]
    },
    {
      "cell_type": "code",
      "execution_count": 61,
      "metadata": {
        "id": "kJ5nWyjofWwT"
      },
      "outputs": [],
      "source": [
        "import torch\n",
        "import torch.nn as nn\n",
        "import torch.nn.functional as F\n",
        "from torch_geometric.nn import GCNConv, GATConv\n",
        "\n",
        "class Convolucional_Droput(nn.Module):\n",
        "    def __init__(self, in_channels, hidden_channels, out_channels, dropout_rate=0.5):\n",
        "        super(Convolucional_Droput, self).__init__()\n",
        "\n",
        "        # Capas de GNN\n",
        "        self.gcn1 = GCNConv(in_channels, hidden_channels)\n",
        "        self.gat = GATConv(hidden_channels, hidden_channels, heads=3, concat=False)\n",
        "        self.gcn2 = GCNConv(hidden_channels, hidden_channels)\n",
        "\n",
        "        # Capas densas finales\n",
        "        self.fc1 = nn.Linear(hidden_channels, hidden_channels // 2)\n",
        "        self.fc2 = nn.Linear(hidden_channels // 2, out_channels)\n",
        "\n",
        "        # Dropout rate\n",
        "        self.dropout_rate = dropout_rate\n",
        "\n",
        "    def forward(self, x, edge_index):\n",
        "        # Primera capa GCN\n",
        "        x = F.relu(self.gcn1(x, edge_index))\n",
        "        x = F.dropout(x, p=self.dropout_rate, training=self.training)\n",
        "\n",
        "        # Atención con GAT\n",
        "        x = F.relu(self.gat(x, edge_index))\n",
        "        x = F.dropout(x, p=self.dropout_rate, training=self.training)\n",
        "\n",
        "        # Segunda capa GCN\n",
        "        x = F.relu(self.gcn2(x, edge_index))\n",
        "        x = F.dropout(x, p=self.dropout_rate, training=self.training)\n",
        "\n",
        "        # Capas densas finales\n",
        "        x = F.relu(self.fc1(x))\n",
        "        x = F.dropout(x, p=self.dropout_rate, training=self.training)\n",
        "        x = self.fc2(x)\n",
        "\n",
        "        return F.log_softmax(x, dim=1)\n"
      ]
    },
    {
      "cell_type": "code",
      "execution_count": 62,
      "metadata": {
        "id": "TIZh0RC2fX0V"
      },
      "outputs": [
        {
          "name": "stdout",
          "output_type": "stream",
          "text": [
            "==========================================================================================\n",
            "Layer (type:depth-idx)                   Output Shape              Param #\n",
            "==========================================================================================\n",
            "├─GCNConv: 1-1                           [-1, 1024]                --\n",
            "|    └─Linear: 2-1                       [-1, 1024]                512,000\n",
            "|    └─SumAggregation: 2-2               [-1, 1024]                --\n",
            "├─GATConv: 1-2                           [-1, 1024]                --\n",
            "|    └─Linear: 2-3                       [-1, 3072]                3,145,728\n",
            "|    └─SumAggregation: 2-4               [-1, 3, 1024]             --\n",
            "├─GCNConv: 1-3                           [-1, 1024]                --\n",
            "|    └─Linear: 2-5                       [-1, 1024]                1,048,576\n",
            "|    └─SumAggregation: 2-6               [-1, 1024]                --\n",
            "├─Linear: 1-4                            [-1, 512]                 524,800\n",
            "├─Linear: 1-5                            [-1, 3]                   1,539\n",
            "==========================================================================================\n",
            "Total params: 5,232,643\n",
            "Trainable params: 5,232,643\n",
            "Non-trainable params: 0\n",
            "Total mult-adds (M): 9.94\n",
            "==========================================================================================\n",
            "Input size (MB): 38.28\n",
            "Forward/backward pass size (MB): 0.04\n",
            "Params size (MB): 19.96\n",
            "Estimated Total Size (MB): 58.29\n",
            "==========================================================================================\n"
          ]
        }
      ],
      "source": [
        "model = Convolucional_Droput(\n",
        "    dataset.num_node_features,\n",
        "    1024,\n",
        "    dataset.num_classes\n",
        ")\n",
        "\n",
        "summary(model, (data.x, data.edge_index));"
      ]
    },
    {
      "cell_type": "code",
      "execution_count": 63,
      "metadata": {},
      "outputs": [
        {
          "name": "stdout",
          "output_type": "stream",
          "text": [
            "Epoch 0: Loss 1.1031080484390259\n",
            "Epoch 10: Loss 0.9859813451766968\n",
            "Epoch 20: Loss 0.6970822811126709\n",
            "Epoch 30: Loss 0.5385814309120178\n",
            "Epoch 40: Loss 0.38514798879623413\n",
            "Epoch 50: Loss 0.36609336733818054\n",
            "Epoch 60: Loss 0.29171881079673767\n",
            "Epoch 70: Loss 0.26218339800834656\n",
            "Epoch 80: Loss 0.25100407004356384\n",
            "Epoch 90: Loss 0.22070784866809845\n",
            "\n",
            "\n",
            "MODEL VALIDATION:\n",
            "\n",
            "Validation F1 score: 0.8811267605633802\n",
            "\n",
            "\n",
            "MODEL TEST:\n",
            "\n",
            "Test F1 score: 0.8990872210953347\n"
          ]
        }
      ],
      "source": [
        "train_model(model, \"Convolucional Dropout\", data)"
      ]
    },
    {
      "cell_type": "markdown",
      "metadata": {},
      "source": [
        "## Aproximación IV - Graph Sage"
      ]
    },
    {
      "cell_type": "code",
      "execution_count": 64,
      "metadata": {
        "id": "n4I4VyLoih8I"
      },
      "outputs": [],
      "source": [
        "import torch\n",
        "import torch.nn.functional as F\n",
        "from torch_geometric.nn import SAGEConv\n",
        "\n",
        "class GraphSAGEModel(torch.nn.Module):\n",
        "    def __init__(self, in_channels, hidden_channels, out_channels, dropout_rate=0.5):\n",
        "        super(GraphSAGEModel, self).__init__()\n",
        "\n",
        "        # Capas convolucionales\n",
        "        self.conv1 = SAGEConv(in_channels, hidden_channels)\n",
        "        self.conv2 = SAGEConv(hidden_channels, hidden_channels)\n",
        "        self.conv3 = SAGEConv(hidden_channels, hidden_channels)\n",
        "        self.conv4 = SAGEConv(hidden_channels, hidden_channels)\n",
        "\n",
        "        # Capas densas\n",
        "        self.fc1 = torch.nn.Linear(hidden_channels, hidden_channels // 2)\n",
        "        self.fc2 = torch.nn.Linear(hidden_channels // 2, hidden_channels // 4)\n",
        "        self.fc3 = torch.nn.Linear(hidden_channels // 4, out_channels)\n",
        "\n",
        "        # Dropout rate\n",
        "        self.dropout_rate = dropout_rate\n",
        "\n",
        "    def forward(self, x, edge_index):\n",
        "        # Capas convolucionales\n",
        "        x = self.conv1(x, edge_index)\n",
        "        x = F.relu(x)\n",
        "        x = self.conv2(x, edge_index)\n",
        "        x = F.relu(x)\n",
        "        x = self.conv3(x, edge_index)\n",
        "        x = F.relu(x)\n",
        "        x = self.conv4(x, edge_index)\n",
        "\n",
        "        # Capas densas\n",
        "        x = F.relu(self.fc1(x))\n",
        "        x = F.dropout(x, p=self.dropout_rate, training=self.training)\n",
        "        x = F.relu(self.fc2(x))\n",
        "        x = F.dropout(x, p=self.dropout_rate, training=self.training)\n",
        "        x = F.relu(self.fc3(x))\n",
        "\n",
        "        return x\n"
      ]
    },
    {
      "cell_type": "code",
      "execution_count": 65,
      "metadata": {
        "id": "T6JftgCsikHu"
      },
      "outputs": [
        {
          "name": "stdout",
          "output_type": "stream",
          "text": [
            "==========================================================================================\n",
            "Layer (type:depth-idx)                   Output Shape              Param #\n",
            "==========================================================================================\n",
            "├─SAGEConv: 1-1                          [-1, 64]                  --\n",
            "|    └─MeanAggregation: 2-1              [-1, 500]                 --\n",
            "|    └─Linear: 2-2                       [-1, 64]                  32,064\n",
            "|    └─Linear: 2-3                       [-1, 64]                  32,000\n",
            "├─SAGEConv: 1-2                          [-1, 64]                  --\n",
            "|    └─MeanAggregation: 2-4              [-1, 64]                  --\n",
            "|    └─Linear: 2-5                       [-1, 64]                  4,160\n",
            "|    └─Linear: 2-6                       [-1, 64]                  4,096\n",
            "├─SAGEConv: 1-3                          [-1, 64]                  --\n",
            "|    └─MeanAggregation: 2-7              [-1, 64]                  --\n",
            "|    └─Linear: 2-8                       [-1, 64]                  4,160\n",
            "|    └─Linear: 2-9                       [-1, 64]                  4,096\n",
            "├─SAGEConv: 1-4                          [-1, 64]                  --\n",
            "|    └─MeanAggregation: 2-10             [-1, 64]                  --\n",
            "|    └─Linear: 2-11                      [-1, 64]                  4,160\n",
            "|    └─Linear: 2-12                      [-1, 64]                  4,096\n",
            "├─Linear: 1-5                            [-1, 32]                  2,080\n",
            "├─Linear: 1-6                            [-1, 16]                  528\n",
            "├─Linear: 1-7                            [-1, 3]                   51\n",
            "==========================================================================================\n",
            "Total params: 91,491\n",
            "Trainable params: 91,491\n",
            "Non-trainable params: 0\n",
            "Total mult-adds (M): 0.18\n",
            "==========================================================================================\n",
            "Input size (MB): 38.28\n",
            "Forward/backward pass size (MB): 0.00\n",
            "Params size (MB): 0.35\n",
            "Estimated Total Size (MB): 38.64\n",
            "==========================================================================================\n"
          ]
        }
      ],
      "source": [
        "model = GraphSAGEModel(\n",
        "    dataset.num_node_features,\n",
        "    64,\n",
        "    dataset.num_classes\n",
        ")\n",
        "\n",
        "summary(model, (data.x, data.edge_index));"
      ]
    },
    {
      "cell_type": "code",
      "execution_count": 66,
      "metadata": {},
      "outputs": [
        {
          "name": "stdout",
          "output_type": "stream",
          "text": [
            "Epoch 0: Loss 1.106594443321228\n",
            "Epoch 10: Loss 0.9617608785629272\n",
            "Epoch 20: Loss 0.8286840319633484\n",
            "Epoch 30: Loss 0.694810688495636\n",
            "Epoch 40: Loss 0.6337000727653503\n",
            "Epoch 50: Loss 0.48040759563446045\n",
            "Epoch 60: Loss 0.3754706382751465\n",
            "Epoch 70: Loss 0.32504135370254517\n",
            "Epoch 80: Loss 0.27329719066619873\n",
            "Epoch 90: Loss 0.30059167742729187\n",
            "\n",
            "\n",
            "MODEL VALIDATION:\n",
            "\n",
            "Validation F1 score: 0.8664788732394366\n",
            "\n",
            "\n",
            "MODEL TEST:\n",
            "\n",
            "Test F1 score: 0.8889452332657201\n"
          ]
        }
      ],
      "source": [
        "train_model(model, \"Graph SAGE\", data)"
      ]
    },
    {
      "cell_type": "markdown",
      "metadata": {},
      "source": [
        "# Comparación entre modelos"
      ]
    },
    {
      "cell_type": "code",
      "execution_count": 78,
      "metadata": {},
      "outputs": [
        {
          "data": {
            "image/png": "[encoded data removed]",
            "text/plain": [
              "<Figure size 640x480 with 1 Axes>"
            ]
          },
          "metadata": {},
          "output_type": "display_data"
        }
      ],
      "source": [
        "import numpy as np\n",
        "import matplotlib.pyplot as plt\n",
        "\n",
        "# Separate validation and test scores\n",
        "val_scores = [scores[0] for scores in f1_by_model.values()]\n",
        "test_scores = [scores[1] for scores in f1_by_model.values()]\n",
        "\n",
        "# Define colors for the bars\n",
        "colors_val = ['grey' if f1 != max(val_scores) else 'red' for f1 in val_scores]\n",
        "colors_test = ['grey' if f1 != max(test_scores) else 'red' for f1 in test_scores]\n",
        "\n",
        "# Create subplots\n",
        "fig, ax = plt.subplots()\n",
        "\n",
        "# Define bar width and positions\n",
        "bar_width = 0.35\n",
        "index = np.arange(len(f1_by_model))\n",
        "\n",
        "# Plot validation scores\n",
        "bars_val = ax.bar(index, val_scores, bar_width, color=colors_val, label='Validation')\n",
        "\n",
        "# Plot test scores\n",
        "bars_test = ax.bar(index + bar_width, test_scores, bar_width, color=colors_test, label='Test', alpha=0.7)\n",
        "\n",
        "# Add value labels inside each bar\n",
        "for bar in bars_val + bars_test:\n",
        "    yval = bar.get_height()\n",
        "    ax.text(bar.get_x() + bar.get_width() / 2, yval * 0.9, round(yval, 4), ha='center', va='center', rotation='vertical', color='white')\n",
        "\n",
        "# Rotate x-axis labels for better readability\n",
        "plt.xticks(index + bar_width / 2, f1_by_model.keys(), rotation=90)\n",
        "\n",
        "# Add title and legend\n",
        "plt.title(\"Validation and Test F1 score by model\")\n",
        "plt.legend()\n",
        "\n",
        "# Show plot\n",
        "plt.show()\n"
      ]
    },
    {
      "cell_type": "markdown",
      "metadata": {
        "id": "XagHI5QV1iAE"
      },
      "source": [
        "# Generar solución para el torneo"
      ]
    },
    {
      "cell_type": "code",
      "execution_count": 79,
      "metadata": {
        "id": "PgPBu9b11mf0"
      },
      "outputs": [
        {
          "name": "stdout",
          "output_type": "stream",
          "text": [
            "Epoch 0: Loss 1.0956376791000366\n",
            "Epoch 10: Loss 1.098576545715332\n",
            "Epoch 20: Loss 1.0505106449127197\n",
            "Epoch 30: Loss 0.7685238718986511\n",
            "Epoch 40: Loss 0.6667629480361938\n",
            "Epoch 50: Loss 0.45313823223114014\n",
            "Epoch 60: Loss 0.35944318771362305\n",
            "Epoch 70: Loss 0.32189396023750305\n",
            "Epoch 80: Loss 0.27289557456970215\n",
            "Epoch 90: Loss 0.25731411576271057\n",
            "\n",
            "\n",
            "MODEL VALIDATION:\n",
            "\n",
            "Validation F1 score: 0.8692957746478873\n",
            "\n",
            "\n",
            "MODEL TEST:\n",
            "\n",
            "Test F1 score: 0.8818458417849898\n"
          ]
        }
      ],
      "source": [
        "model = Convolucional_Droput(\n",
        "    dataset.num_node_features,\n",
        "    1024,\n",
        "    dataset.num_classes\n",
        ")\n",
        "\n",
        "train_model(model, \"Convolucional Dropout\", data)\n",
        "\n",
        "dataset.create_test_json(model, 'pred_labels.json', device='cuda')"
      ]
    }
  ],
  "metadata": {
    "accelerator": "GPU",
    "colab": {
      "gpuType": "T4",
      "provenance": []
    },
    "kernelspec": {
      "display_name": ".venv",
      "language": "python",
      "name": "python3"
    },
    "language_info": {
      "codemirror_mode": {
        "name": "ipython",
        "version": 3
      },
      "file_extension": ".py",
      "mimetype": "text/x-python",
      "name": "python",
      "nbconvert_exporter": "python",
      "pygments_lexer": "ipython3",
      "version": "3.10.0"
    }
  },
  "nbformat": 4,
  "nbformat_minor": 0
}
